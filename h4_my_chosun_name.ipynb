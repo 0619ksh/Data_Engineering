{
 "cells": [
  {
   "cell_type": "code",
   "execution_count": 3,
   "id": "1fdecbe1-a657-4a9a-8fe1-43d226bc7600",
   "metadata": {},
   "outputs": [
    {
     "name": "stdout",
     "output_type": "stream",
     "text": [
      "당신의 조선시대 이름은 김육래 입니다.\n"
     ]
    }
   ],
   "source": [
    "def get_my_chosun_name(family_name, month, day):\n",
    "    name = family_name + month_names[month - 1] + day_names[day - 1]\n",
    "    return name\n",
    "    \n",
    "month_names = ['쌍', '쇠', '복', '돌', '팽', '육', '쌍', '개', '칠', '갑', '삼', '방']\n",
    "day_names = ['봉', '구', '욕', '포', '똥', '삼', '식', '석', '놈', '님',\n",
    "             '년', '돌', '단', '득', '방', '질', '장', '걸', '래', '룡',\n",
    "             '동', '순', '자', '박', '창', '언', '것', '포', '만', '단', '국']\n",
    "\n",
    "print(\"당신의 조선시대 이름은\", get_my_chosun_name('김', 6, 19), \"입니다.\")"
   ]
  }
 ],
 "metadata": {
  "kernelspec": {
   "display_name": "Python 3 (ipykernel)",
   "language": "python",
   "name": "python3"
  },
  "language_info": {
   "codemirror_mode": {
    "name": "ipython",
    "version": 3
   },
   "file_extension": ".py",
   "mimetype": "text/x-python",
   "name": "python",
   "nbconvert_exporter": "python",
   "pygments_lexer": "ipython3",
   "version": "3.9.12"
  }
 },
 "nbformat": 4,
 "nbformat_minor": 5
}
